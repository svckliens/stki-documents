{
  "cells": [
    {
      "cell_type": "markdown",
      "metadata": {},
      "source": [
        "# Latihan Minggu 4"
      ]
    },
    {
      "cell_type": "code",
      "execution_count": 6,
      "metadata": {},
      "outputs": [
        {
          "name": "stdout",
          "output_type": "stream",
          "text": [
            "🔹 Representasi Vektor:\n",
            "\n",
            "       bewarna  bunga  coklat  daun  hijau  rumput\n",
            "Dok1         1      0       1     1      0       0\n",
            "Dok2         1      1       0     0      1       0\n",
            "Dok3         1      0       0     0      1       1\n",
            "Query        0      0       0     1      1       0\n",
            "\n",
            "🔹 Hasil Cosine Similarity (Query vs Dokumen):\n",
            "Query vs Dokumen 1: 0.4082\n",
            "Query vs Dokumen 2: 0.4082\n",
            "Query vs Dokumen 3: 0.4082\n",
            "\n",
            "✅ Dokumen yang paling mirip dengan Query adalah: Dokumen 1\n"
          ]
        }
      ],
      "source": [
        "import pandas as pd\n",
        "from sklearn.feature_extraction.text import CountVectorizer\n",
        "from sklearn.metrics.pairwise import cosine_similarity\n",
        "\n",
        "# 1️⃣ Data Dokumen dan Query\n",
        "documents = [\n",
        "    'daun bewarna coklat',   # Dokumen 1\n",
        "    'bunga bewarna hijau',   # Dokumen 2\n",
        "    'rumput bewarna hijau'   # Dokumen 3\n",
        "]\n",
        "query = ['daun hijau']\n",
        "\n",
        "# 2️⃣ Gabungkan Query dan Dokumen\n",
        "all_texts = documents + query\n",
        "\n",
        "# 3️⃣ Ubah teks menjadi representasi vektor (Bag of Words)\n",
        "vectorizer = CountVectorizer()\n",
        "X = vectorizer.fit_transform(all_texts)\n",
        "\n",
        "df = pd.DataFrame(X.toarray(), columns=vectorizer.get_feature_names_out(),\n",
        "                  index=['Dok1', 'Dok2', 'Dok3', 'Query'])\n",
        "print('🔹 Representasi Vektor:\\n')\n",
        "print(df)\n",
        "\n",
        "# 4️⃣ Hitung Cosine Similarity\n",
        "similarity_matrix = cosine_similarity(X)\n",
        "query_similarities = similarity_matrix[-1][:-1]\n",
        "\n",
        "# 5️⃣ Tampilkan hasil\n",
        "print('\\n🔹 Hasil Cosine Similarity (Query vs Dokumen):')\n",
        "for i, score in enumerate(query_similarities, start=1):\n",
        "    print(f'Query vs Dokumen {i}: {score:.4f}')\n",
        "\n",
        "max_index = query_similarities.argmax() + 1\n",
        "print(f'\\n✅ Dokumen yang paling mirip dengan Query adalah: Dokumen {max_index}')"
      ]
    }
  ],
  "metadata": {
    "kernelspec": {
      "display_name": "Python 3",
      "language": "python",
      "name": "python3"
    },
    "language_info": {
      "codemirror_mode": {
        "name": "ipython",
        "version": 3
      },
      "file_extension": ".py",
      "mimetype": "text/x-python",
      "name": "python",
      "nbconvert_exporter": "python",
      "pygments_lexer": "ipython3",
      "version": "3.13.7"
    }
  },
  "nbformat": 4,
  "nbformat_minor": 5
}
