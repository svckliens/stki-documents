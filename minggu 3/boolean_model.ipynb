{
 "cells": [
  {
   "cell_type": "code",
   "execution_count": null,
   "id": "dddc1bac",
   "metadata": {},
   "outputs": [
    {
     "name": "stdout",
     "output_type": "stream",
     "text": [
      "🔍 Boolean Retrieval Model - Sistem Temu Kembali Informasi\n"
     ]
    }
   ],
   "source": [
    "# ============================================================\n",
    "# Mata Kuliah : Sistem Temu Kembali Informasi\n",
    "# Topik       : Boolean Retrieval Model\n",
    "# Pertemuan   : Minggu 3\n",
    "# Dosen       : Tim STKI\n",
    "# ============================================================\n",
    "\n",
    "print(\"🔍 Boolean Retrieval Model - Sistem Temu Kembali Informasi\")"
   ]
  },
  {
   "cell_type": "code",
   "execution_count": null,
   "id": "be810f62",
   "metadata": {},
   "outputs": [],
   "source": [
    "import pandas as pd\n",
    "import re"
   ]
  },
  {
   "cell_type": "code",
   "execution_count": 3,
   "id": "8d8113b2",
   "metadata": {},
   "outputs": [
    {
     "name": "stdout",
     "output_type": "stream",
     "text": [
      "Doc1: New home sales top forecasts\n",
      "Doc2: Home sales rise in july\n",
      "Doc3: Increase in home sales in july\n",
      "Doc4: July new home sales rise\n"
     ]
    }
   ],
   "source": [
    "# Contoh dataset dari materi pertemuan 3 (Boolean Model)\n",
    "documents = {\n",
    "    \"Doc1\": \"New home sales top forecasts\",\n",
    "    \"Doc2\": \"Home sales rise in july\",\n",
    "    \"Doc3\": \"Increase in home sales in july\",\n",
    "    \"Doc4\": \"July new home sales rise\"\n",
    "}\n",
    "\n",
    "for name, content in documents.items():\n",
    "    print(f\"{name}: {content}\")\n"
   ]
  },
  {
   "cell_type": "code",
   "execution_count": 4,
   "id": "382f55aa",
   "metadata": {},
   "outputs": [
    {
     "name": "stdout",
     "output_type": "stream",
     "text": [
      "=== TOKEN HASIL PREPROCESSING ===\n",
      "Doc1: ['new', 'home', 'sales', 'top', 'forecasts']\n",
      "Doc2: ['home', 'sales', 'rise', 'in', 'july']\n",
      "Doc3: ['increase', 'in', 'home', 'sales', 'in', 'july']\n",
      "Doc4: ['july', 'new', 'home', 'sales', 'rise']\n"
     ]
    }
   ],
   "source": [
    "def preprocess(text):\n",
    "    text = text.lower()\n",
    "    text = re.sub(r'[^a-z\\s]', '', text)\n",
    "    return text.split()\n",
    "\n",
    "tokenized_docs = {doc: preprocess(content) for doc, content in documents.items()}\n",
    "\n",
    "print(\"=== TOKEN HASIL PREPROCESSING ===\")\n",
    "for doc, tokens in tokenized_docs.items():\n",
    "    print(f\"{doc}: {tokens}\")\n"
   ]
  },
  {
   "cell_type": "code",
   "execution_count": 5,
   "id": "740b7f5b",
   "metadata": {},
   "outputs": [
    {
     "name": "stdout",
     "output_type": "stream",
     "text": [
      "=== INCIDENCE MATRIX ===\n"
     ]
    },
    {
     "data": {
      "text/html": [
       "<div>\n",
       "<style scoped>\n",
       "    .dataframe tbody tr th:only-of-type {\n",
       "        vertical-align: middle;\n",
       "    }\n",
       "\n",
       "    .dataframe tbody tr th {\n",
       "        vertical-align: top;\n",
       "    }\n",
       "\n",
       "    .dataframe thead th {\n",
       "        text-align: right;\n",
       "    }\n",
       "</style>\n",
       "<table border=\"1\" class=\"dataframe\">\n",
       "  <thead>\n",
       "    <tr style=\"text-align: right;\">\n",
       "      <th></th>\n",
       "      <th>Doc1</th>\n",
       "      <th>Doc2</th>\n",
       "      <th>Doc3</th>\n",
       "      <th>Doc4</th>\n",
       "    </tr>\n",
       "  </thead>\n",
       "  <tbody>\n",
       "    <tr>\n",
       "      <th>forecasts</th>\n",
       "      <td>1</td>\n",
       "      <td>0</td>\n",
       "      <td>0</td>\n",
       "      <td>0</td>\n",
       "    </tr>\n",
       "    <tr>\n",
       "      <th>home</th>\n",
       "      <td>1</td>\n",
       "      <td>1</td>\n",
       "      <td>1</td>\n",
       "      <td>1</td>\n",
       "    </tr>\n",
       "    <tr>\n",
       "      <th>in</th>\n",
       "      <td>0</td>\n",
       "      <td>1</td>\n",
       "      <td>1</td>\n",
       "      <td>0</td>\n",
       "    </tr>\n",
       "    <tr>\n",
       "      <th>increase</th>\n",
       "      <td>0</td>\n",
       "      <td>0</td>\n",
       "      <td>1</td>\n",
       "      <td>0</td>\n",
       "    </tr>\n",
       "    <tr>\n",
       "      <th>july</th>\n",
       "      <td>0</td>\n",
       "      <td>1</td>\n",
       "      <td>1</td>\n",
       "      <td>1</td>\n",
       "    </tr>\n",
       "    <tr>\n",
       "      <th>new</th>\n",
       "      <td>1</td>\n",
       "      <td>0</td>\n",
       "      <td>0</td>\n",
       "      <td>1</td>\n",
       "    </tr>\n",
       "    <tr>\n",
       "      <th>rise</th>\n",
       "      <td>0</td>\n",
       "      <td>1</td>\n",
       "      <td>0</td>\n",
       "      <td>1</td>\n",
       "    </tr>\n",
       "    <tr>\n",
       "      <th>sales</th>\n",
       "      <td>1</td>\n",
       "      <td>1</td>\n",
       "      <td>1</td>\n",
       "      <td>1</td>\n",
       "    </tr>\n",
       "    <tr>\n",
       "      <th>top</th>\n",
       "      <td>1</td>\n",
       "      <td>0</td>\n",
       "      <td>0</td>\n",
       "      <td>0</td>\n",
       "    </tr>\n",
       "  </tbody>\n",
       "</table>\n",
       "</div>"
      ],
      "text/plain": [
       "           Doc1  Doc2  Doc3  Doc4\n",
       "forecasts     1     0     0     0\n",
       "home          1     1     1     1\n",
       "in            0     1     1     0\n",
       "increase      0     0     1     0\n",
       "july          0     1     1     1\n",
       "new           1     0     0     1\n",
       "rise          0     1     0     1\n",
       "sales         1     1     1     1\n",
       "top           1     0     0     0"
      ]
     },
     "metadata": {},
     "output_type": "display_data"
    }
   ],
   "source": [
    "# Membuat daftar kata unik (vocabulary)\n",
    "vocab = sorted(set(word for words in tokenized_docs.values() for word in words))\n",
    "\n",
    "# Membuat incidence matrix (biner)\n",
    "matrix = pd.DataFrame(0, index=vocab, columns=documents.keys())\n",
    "\n",
    "for term in vocab:\n",
    "    for doc, tokens in tokenized_docs.items():\n",
    "        if term in tokens:\n",
    "            matrix.loc[term, doc] = 1\n",
    "\n",
    "print(\"=== INCIDENCE MATRIX ===\")\n",
    "display(matrix)\n"
   ]
  },
  {
   "cell_type": "code",
   "execution_count": 6,
   "id": "cecfc620",
   "metadata": {},
   "outputs": [],
   "source": [
    "def get_vector(term):\n",
    "    \"\"\"Mengambil vektor biner untuk sebuah kata.\"\"\"\n",
    "    term = term.lower()\n",
    "    if term in matrix.index:\n",
    "        return matrix.loc[term].tolist()\n",
    "    else:\n",
    "        return [0] * len(documents)\n",
    "\n",
    "def boolean_not(vector):\n",
    "    return [1 - x for x in vector]\n",
    "\n",
    "def boolean_and(v1, v2):\n",
    "    return [a & b for a, b in zip(v1, v2)]\n",
    "\n",
    "def boolean_or(v1, v2):\n",
    "    return [a | b for a, b in zip(v1, v2)]\n"
   ]
  },
  {
   "cell_type": "code",
   "execution_count": 11,
   "id": "f023a2cd",
   "metadata": {},
   "outputs": [],
   "source": [
    "def evaluate_query(query):\n",
    "    \"\"\"\n",
    "    Evaluasi query boolean sederhana (tanpa tanda kurung).\n",
    "    Mendukung urutan operator NOT > AND > OR.\n",
    "    \"\"\"\n",
    "    tokens = query.upper().split()\n",
    "\n",
    "    # Buat salinan agar tidak mengubah list asli\n",
    "    tokens = [t for t in tokens if t.strip() != \"\"]\n",
    "\n",
    "    # STEP 1: Ganti semua term menjadi vector\n",
    "    token_vectors = []\n",
    "    for token in tokens:\n",
    "        if token not in {\"AND\", \"OR\", \"NOT\"}:\n",
    "            token_vectors.append((token, get_vector(token)))\n",
    "        else:\n",
    "            token_vectors.append((token, None))\n",
    "\n",
    "    # STEP 2: Tangani operator NOT lebih dulu\n",
    "    i = 0\n",
    "    while i < len(token_vectors):\n",
    "        if token_vectors[i][0] == \"NOT\":\n",
    "            if i + 1 < len(token_vectors) and token_vectors[i + 1][1] is not None:\n",
    "                negated = boolean_not(token_vectors[i + 1][1])\n",
    "                token_vectors[i:i + 2] = [(\"TEMP\", negated)]\n",
    "            else:\n",
    "                raise ValueError(\"Kesalahan sintaks: operator NOT tanpa term sesudahnya.\")\n",
    "        else:\n",
    "            i += 1\n",
    "\n",
    "    # STEP 3: Tangani operator AND\n",
    "    i = 0\n",
    "    while i < len(token_vectors):\n",
    "        if token_vectors[i][0] == \"AND\":\n",
    "            left = token_vectors[i - 1][1]\n",
    "            right = token_vectors[i + 1][1]\n",
    "            combined = boolean_and(left, right)\n",
    "            token_vectors[i - 1:i + 2] = [(\"TEMP\", combined)]\n",
    "        else:\n",
    "            i += 1\n",
    "\n",
    "    # STEP 4: Tangani operator OR\n",
    "    i = 0\n",
    "    while i < len(token_vectors):\n",
    "        if token_vectors[i][0] == \"OR\":\n",
    "            left = token_vectors[i - 1][1]\n",
    "            right = token_vectors[i + 1][1]\n",
    "            combined = boolean_or(left, right)\n",
    "            token_vectors[i - 1:i + 2] = [(\"TEMP\", combined)]\n",
    "        else:\n",
    "            i += 1\n",
    "\n",
    "    # STEP 5: Hasil akhir harus 1 elemen\n",
    "    if len(token_vectors) != 1:\n",
    "        raise ValueError(\"Query tidak valid atau urutan operator salah.\")\n",
    "    return token_vectors[0][1]\n"
   ]
  },
  {
   "cell_type": "code",
   "execution_count": 15,
   "id": "84ce355d",
   "metadata": {},
   "outputs": [
    {
     "name": "stdout",
     "output_type": "stream",
     "text": [
      "Query: Home AND Sales AND NOT July\n",
      "Vector Hasil: [1, 0, 0, 0]\n",
      "Dokumen relevan: ['Doc1']\n",
      "--------------------------------------------------\n",
      "Query: Home AND July AND NOT Sales\n",
      "Vector Hasil: [0, 0, 0, 0]\n",
      "Dokumen relevan: []\n",
      "--------------------------------------------------\n",
      "Query: Sales OR NOT July\n",
      "Vector Hasil: [1, 1, 1, 1]\n",
      "Dokumen relevan: ['Doc1', 'Doc2', 'Doc3', 'Doc4']\n",
      "--------------------------------------------------\n"
     ]
    }
   ],
   "source": [
    "queries = [\n",
    "    \"Home AND Sales AND NOT July\",\n",
    "    \"Home AND July AND NOT Sales\",\n",
    "    \"Sales OR NOT July\"\n",
    "]\n",
    "\n",
    "for q in queries:\n",
    "    result = evaluate_query(q)\n",
    "    matched_docs = [doc for doc, val in zip(documents.keys(), result) if val == 1]\n",
    "    print(f\"Query: {q}\")\n",
    "    print(f\"Vector Hasil: {result}\")\n",
    "    print(f\"Dokumen relevan: {matched_docs}\")\n",
    "    print(\"-\" * 50)\n"
   ]
  },
  {
   "cell_type": "code",
   "execution_count": 16,
   "id": "9ac26063",
   "metadata": {},
   "outputs": [
    {
     "name": "stdout",
     "output_type": "stream",
     "text": [
      "\n",
      "Kesimpulan:\n",
      "Model Boolean Retrieval menggunakan logika AND, OR, dan NOT untuk menentukan relevansi dokumen.\n",
      "- Hasilnya bersifat biner (1 = relevan, 0 = tidak relevan)\n",
      "- Incidence Matrix menunjukkan kemunculan kata pada dokumen\n",
      "- Query Boolean memungkinkan kombinasi logika pencarian\n",
      "\n",
      "Contoh:\n",
      "Query: Home AND Sales AND NOT July\n",
      "Artinya mencari dokumen yang mengandung 'home' dan 'sales' tetapi tidak mengandung 'july'.\n",
      "\n"
     ]
    }
   ],
   "source": [
    "print(\"\"\"\n",
    "Kesimpulan:\n",
    "Model Boolean Retrieval menggunakan logika AND, OR, dan NOT untuk menentukan relevansi dokumen.\n",
    "- Hasilnya bersifat biner (1 = relevan, 0 = tidak relevan)\n",
    "- Incidence Matrix menunjukkan kemunculan kata pada dokumen\n",
    "- Query Boolean memungkinkan kombinasi logika pencarian\n",
    "\n",
    "Contoh:\n",
    "Query: Home AND Sales AND NOT July\n",
    "Artinya mencari dokumen yang mengandung 'home' dan 'sales' tetapi tidak mengandung 'july'.\n",
    "\"\"\")\n"
   ]
  },
  {
   "cell_type": "code",
   "execution_count": 17,
   "id": "b943f1a2",
   "metadata": {},
   "outputs": [
    {
     "name": "stdout",
     "output_type": "stream",
     "text": [
      "Incidence Matrix disimpan ke file 'incidence_matrix.csv'\n"
     ]
    }
   ],
   "source": [
    "matrix.to_csv(\"incidence_matrix.csv\", index=True, encoding=\"utf-8\")\n",
    "print(\"Incidence Matrix disimpan ke file 'incidence_matrix.csv'\")"
   ]
  }
 ],
 "metadata": {
  "kernelspec": {
   "display_name": "Python 3",
   "language": "python",
   "name": "python3"
  },
  "language_info": {
   "codemirror_mode": {
    "name": "ipython",
    "version": 3
   },
   "file_extension": ".py",
   "mimetype": "text/x-python",
   "name": "python",
   "nbconvert_exporter": "python",
   "pygments_lexer": "ipython3",
   "version": "3.13.7"
  }
 },
 "nbformat": 4,
 "nbformat_minor": 5
}
